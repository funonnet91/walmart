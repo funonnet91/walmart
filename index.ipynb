{
 "cells": [
  {
   "cell_type": "markdown",
   "metadata": {},
   "source": [
    "## Walmart sales"
   ]
  },
  {
   "cell_type": "markdown",
   "metadata": {},
   "source": [
    "### Problem description\n",
    "\n",
    "One challenge of modeling retail data is the need to make decisions based on limited history. If Christmas comes but once a year, so does the chance to see how strategic decisions impacted the bottom line.\n",
    "\n",
    "Historical sales data is provided for 45 Walmart stores located in different regions. Selected holiday markdown events are included in the dataset.\n",
    "\n",
    "40-week projections should be made for sales for each store.\n",
    "\n",
    "The dataset is explained in the [Data preprocessing](preprocessing.ipynb) notebook"
   ]
  },
  {
   "cell_type": "markdown",
   "metadata": {},
   "source": [
    "## Table of contents\n",
    "\n",
    "* [Methodology](#methodology)\n",
    "* [Data preprocessing](preprocessing.ipynb)\n",
    "* [Data exploration](exploration.ipynb)\n",
    "* [Autoregressive models](autoregressive.ipynb)\n",
    "* [ML models](ml.ipynb)\n",
    "* [Packaged models](packaged.ipynb)"
   ]
  },
  {
   "cell_type": "markdown",
   "metadata": {},
   "source": [
    "<a id='methodology'></a>\n",
    "## Methodology"
   ]
  },
  {
   "cell_type": "markdown",
   "metadata": {},
   "source": [
    "### Metrics\n",
    "\n",
    "Given:\n",
    "\n",
    "* n = the number of rows\n",
    "* $\\hat{y}_i$ = predicted sales\n",
    "* $y_i$ = actual sales\n",
    "* $w_i$ = weights (5 if the week is a holiday week, 1 otherwise)\n",
    "\n",
    "We'll use a few metrics to evaluate models:\n",
    "\n",
    "* Weighted mean absolute error (WMAE)   \n",
    "$ WMAE = \\frac{1} {\\sum\\limits_{i=1}^n w_i} \\sum\\limits_{i=1}^n w_i |y_i - \\hat{y}_i| $\n",
    "\n",
    "* Mean absolue error (MAE)   \n",
    "$ MAE = \\frac{1} {n} \\sum\\limits_{i=1}^n |y_i - \\hat{y}_i| $\n",
    "\n",
    "* Root mean square error (RMSE)  \n",
    "$ RMSE = \\sqrt {\\frac{1} {n} \\sum\\limits_{i=1}^n |y_i - \\hat{y}_i|^2} $\n",
    "\n",
    "WMAE is generally preferred as a guiding metric, as it penalizes a model that underperforms during holidays."
   ]
  },
  {
   "cell_type": "markdown",
   "metadata": {},
   "source": [
    "### Models"
   ]
  },
  {
   "cell_type": "markdown",
   "metadata": {},
   "source": [
    "We'll study the performance of a few different models:\n",
    "\n",
    "* Statistical autoregressive models\n",
    "  * SARIMAX\n",
    "\n",
    "\n",
    "* Linear models\n",
    "  * Linear regression\n",
    "  * Elastic net\n",
    "\n",
    "\n",
    "* Non-linear models\n",
    "  * Random forests\n",
    "  * Gradient boosting\n",
    "  * SVR\n",
    "  \n",
    "\n",
    "* Statistical packaged models\n",
    "  * Facebook's Prophet"
   ]
  },
  {
   "cell_type": "markdown",
   "metadata": {},
   "source": [
    "### Evaluation"
   ]
  },
  {
   "cell_type": "markdown",
   "metadata": {},
   "source": [
    "For the autoregressive and packaged models, we'll create models per store, and calculate metrics in sample. \n",
    "\n",
    "For the ML models (linear and non-linear), we'll create an out-of-sample holdout to calculate metrics on. We'll also compare the performance of those models against a dummy regressor baseline."
   ]
  }
 ],
 "metadata": {
  "kernelspec": {
   "display_name": "Python 3",
   "language": "python",
   "name": "python3"
  },
  "language_info": {
   "codemirror_mode": {
    "name": "ipython",
    "version": 3
   },
   "file_extension": ".py",
   "mimetype": "text/x-python",
   "name": "python",
   "nbconvert_exporter": "python",
   "pygments_lexer": "ipython3",
   "version": "3.6.1"
  }
 },
 "nbformat": 4,
 "nbformat_minor": 2
}
